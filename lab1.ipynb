{
 "cells": [
  {
   "cell_type": "code",
   "execution_count": null,
   "id": "e5c2e14a",
   "metadata": {},
   "outputs": [
    {
     "data": {
      "text/html": [
       "2.000003 kilogram"
      ],
      "text/latex": [
       "$2.000003\\ \\mathrm{kilogram}$"
      ],
      "text/plain": [
       "<Quantity(2.000003, 'kilogram')>"
      ]
     },
     "execution_count": 3,
     "metadata": {},
     "output_type": "execute_result"
    }
   ],
   "source": [
    "import pint\n",
    "from scipy import constants\n",
    "\n",
    "si = pint.UnitRegistry() #reprezentacja w kodzie jednostek fizycznych\n",
    "2*si.kg +3*si.mg\n",
    "\n",
    "R_str = constants.R*si.J/si.K/si.mol \n",
    "\n",
    "Md = 28.966 *si.kg/si.kmol\n",
    "R = R_str/Md\n"
   ]
  },
  {
   "cell_type": "code",
   "execution_count": null,
   "id": "cac6d870",
   "metadata": {},
   "outputs": [],
   "source": [
    "def rho(p,T):\n",
    "    \n",
    "    return p/R/T"
   ]
  },
  {
   "cell_type": "code",
   "execution_count": null,
   "id": "8b5569d1",
   "metadata": {},
   "outputs": [],
   "source": [
    "rho(1000*si.hPa,300*si.K).to_base_units()\n"
   ]
  }
 ],
 "metadata": {
  "kernelspec": {
   "display_name": "Python 3",
   "language": "python",
   "name": "python3"
  },
  "language_info": {
   "codemirror_mode": {
    "name": "ipython",
    "version": 3
   },
   "file_extension": ".py",
   "mimetype": "text/x-python",
   "name": "python",
   "nbconvert_exporter": "python",
   "pygments_lexer": "ipython3",
   "version": "3.13.1"
  }
 },
 "nbformat": 4,
 "nbformat_minor": 5
}
